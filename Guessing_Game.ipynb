{
  "nbformat": 4,
  "nbformat_minor": 0,
  "metadata": {
    "colab": {
      "provenance": [],
      "authorship_tag": "ABX9TyMz7HR1cbAtnfriGct8311Q",
      "include_colab_link": true
    },
    "kernelspec": {
      "name": "python3",
      "display_name": "Python 3"
    },
    "language_info": {
      "name": "python"
    }
  },
  "cells": [
    {
      "cell_type": "markdown",
      "metadata": {
        "id": "view-in-github",
        "colab_type": "text"
      },
      "source": [
        "<a href=\"https://colab.research.google.com/github/johnnysam7/Python-Beginners/blob/main/Guessing_Game.ipynb\" target=\"_parent\"><img src=\"https://colab.research.google.com/assets/colab-badge.svg\" alt=\"Open In Colab\"/></a>"
      ]
    },
    {
      "cell_type": "code",
      "execution_count": 1,
      "metadata": {
        "id": "UAHd8XMk23Tw"
      },
      "outputs": [],
      "source": [
        "import random"
      ]
    },
    {
      "cell_type": "code",
      "source": [
        "\n",
        "actual_num = int(random.randint(1,100)) #generation of the number \n",
        "\n",
        "guess_num = int(input(\"Please bro make your guess\"))\n",
        "\n",
        "guess_num  "
      ],
      "metadata": {
        "id": "9uGgT4UR3ERn"
      },
      "execution_count": null,
      "outputs": []
    },
    {
      "cell_type": "code",
      "source": [
        "while True:\n",
        "  if guess_num > 100 or guess_num <= 1:\n",
        "    print(\"The number should be between 1&100\")\n",
        "    guess_num = int(input('Enter the number again'))\n",
        "  elif actual_num == guess_num:\n",
        "    print('Amazing, you smashed it!!!')\n",
        "    break                                    #if we dont break, it will continue forever \n",
        "  elif actual_num > guess_num:\n",
        "    print('Try again, Your guess is too low')\n",
        "    guess_num = int(input('Entre the value idiot'))\n",
        "  elif actual_num < guess_num:\n",
        "    print('Try again, Your guess is too high')\n",
        "    guess_num = int(input(\"Enter the value idiot\"))\n",
        "  "
      ],
      "metadata": {
        "id": "HLFiv2B13mQD"
      },
      "execution_count": null,
      "outputs": []
    },
    {
      "cell_type": "code",
      "source": [],
      "metadata": {
        "id": "VkUktahN5Uno"
      },
      "execution_count": null,
      "outputs": []
    }
  ]
}