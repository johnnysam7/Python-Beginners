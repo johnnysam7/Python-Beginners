{
  "nbformat": 4,
  "nbformat_minor": 0,
  "metadata": {
    "colab": {
      "provenance": [],
      "authorship_tag": "ABX9TyPAjytTZ3IjMwoIbpl2E8dk",
      "include_colab_link": true
    },
    "kernelspec": {
      "name": "python3",
      "display_name": "Python 3"
    },
    "language_info": {
      "name": "python"
    }
  },
  "cells": [
    {
      "cell_type": "markdown",
      "metadata": {
        "id": "view-in-github",
        "colab_type": "text"
      },
      "source": [
        "<a href=\"https://colab.research.google.com/github/johnnysam7/Python-Beginners/blob/main/Project_3_.ipynb\" target=\"_parent\"><img src=\"https://colab.research.google.com/assets/colab-badge.svg\" alt=\"Open In Colab\"/></a>"
      ]
    },
    {
      "cell_type": "code",
      "execution_count": 1,
      "metadata": {
        "id": "gtKlQHhyKoWa"
      },
      "outputs": [],
      "source": [
        "from datetime import date \n"
      ]
    },
    {
      "cell_type": "code",
      "source": [
        "Year = input('Enter your year of birth')\n",
        "Month = input('Enter your month of birth')\n",
        "Day = input('Enter your day of birth')\n"
      ],
      "metadata": {
        "colab": {
          "base_uri": "https://localhost:8080/"
        },
        "id": "y1TAXWimLISk",
        "outputId": "47bc141a-d607-4c36-96c8-39317734225b"
      },
      "execution_count": 20,
      "outputs": [
        {
          "name": "stdout",
          "output_type": "stream",
          "text": [
            "Enter your year of birth1997\n",
            "Enter your month of birth1\n",
            "Enter your day of birth3\n"
          ]
        }
      ]
    },
    {
      "cell_type": "code",
      "source": [
        "print('Your date of birth is ',(Day+'/' , Month, Year))"
      ],
      "metadata": {
        "colab": {
          "base_uri": "https://localhost:8080/"
        },
        "id": "L7JnbJUKLUjP",
        "outputId": "aa468322-4ee4-46a5-e075-cf3aa09e73f8"
      },
      "execution_count": 21,
      "outputs": [
        {
          "output_type": "stream",
          "name": "stdout",
          "text": [
            "Your date of birth is  ('3/', '1', '1997')\n"
          ]
        }
      ]
    },
    {
      "cell_type": "code",
      "source": [
        "today_date = date.today()\n",
        "today_date"
      ],
      "metadata": {
        "colab": {
          "base_uri": "https://localhost:8080/"
        },
        "id": "ddYkmY54L4UT",
        "outputId": "2094f3d6-8898-4671-fa3d-75da46278ddd"
      },
      "execution_count": 22,
      "outputs": [
        {
          "output_type": "execute_result",
          "data": {
            "text/plain": [
              "datetime.date(2023, 6, 8)"
            ]
          },
          "metadata": {},
          "execution_count": 22
        }
      ]
    },
    {
      "cell_type": "code",
      "source": [
        "age = today_date.year - int(Year)\n",
        "print('You are ', age, 'years old')"
      ],
      "metadata": {
        "colab": {
          "base_uri": "https://localhost:8080/"
        },
        "id": "DTC_ZHVRMYRa",
        "outputId": "efbadca7-faff-4f8a-8490-d004139c0884"
      },
      "execution_count": 23,
      "outputs": [
        {
          "output_type": "stream",
          "name": "stdout",
          "text": [
            "You are  26 years old\n"
          ]
        }
      ]
    },
    {
      "cell_type": "code",
      "source": [
        "if ((int(Month) == 12 and int(Day) >= 22) or int(Month) == 1 and int(Day) <=19):\n",
        "  sign = ('/n leon')\n",
        "  print(sign)"
      ],
      "metadata": {
        "colab": {
          "base_uri": "https://localhost:8080/"
        },
        "id": "qcJEKoWzMlf4",
        "outputId": "421ea66e-431f-4f8b-ad55-f42b2f8148f9"
      },
      "execution_count": 24,
      "outputs": [
        {
          "output_type": "stream",
          "name": "stdout",
          "text": [
            "/n leon\n"
          ]
        }
      ]
    },
    {
      "cell_type": "code",
      "source": [],
      "metadata": {
        "id": "kg9dJ7NkNZzg"
      },
      "execution_count": null,
      "outputs": []
    }
  ]
}