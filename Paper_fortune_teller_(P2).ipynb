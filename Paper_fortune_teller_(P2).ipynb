{
  "nbformat": 4,
  "nbformat_minor": 0,
  "metadata": {
    "colab": {
      "provenance": [],
      "authorship_tag": "ABX9TyOxbrz1r9PvLdu3hU8GHY3F",
      "include_colab_link": true
    },
    "kernelspec": {
      "name": "python3",
      "display_name": "Python 3"
    },
    "language_info": {
      "name": "python"
    }
  },
  "cells": [
    {
      "cell_type": "markdown",
      "metadata": {
        "id": "view-in-github",
        "colab_type": "text"
      },
      "source": [
        "<a href=\"https://colab.research.google.com/github/johnnysam7/Python-Beginners/blob/main/Paper_fortune_teller_(P2).ipynb\" target=\"_parent\"><img src=\"https://colab.research.google.com/assets/colab-badge.svg\" alt=\"Open In Colab\"/></a>"
      ]
    },
    {
      "cell_type": "code",
      "execution_count": 3,
      "metadata": {
        "id": "0vljcVvh9rEx"
      },
      "outputs": [],
      "source": [
        "import random"
      ]
    },
    {
      "cell_type": "code",
      "source": [
        "answer = 'y'\n",
        "\n",
        "print('Welcome to the fortune teller')\n",
        "print('You will select a color and a number and I will tell you what the future holds for you')\n",
        "\n",
        "while answer == 'y':\n",
        "  color = input('Enter a color [yellow, green, blue, red]')\n",
        "\n",
        "  if color == 'yellow' or color == 'green':\n",
        "    number = int(input('Select a number from 1,2,5,6'))\n",
        "    if number == 1:\n",
        "      print('You will succeed as a professional')\n",
        "    elif number == 2:\n",
        "      print('You will make a happy family')\n",
        "    elif number == 5:\n",
        "      print('You will die young')\n",
        "    elif number == 6:\n",
        "      print('Your future is dark')\n",
        "    else:\n",
        "      print('1,2,5,6 only numbers allowed')\n",
        "  \n",
        "  if color =='blue' or 'red':\n",
        "    number = int(input('Enter a number from 3,4,7,8'))\n",
        "    if number == 3:\n",
        "      print('You will win the lottery')\n",
        "    elif number == 4:\n",
        "      print('Your kids will become doctors')\n",
        "    elif number == 7:\n",
        "      print('Your wife will get dicorce')\n",
        "    elif number == 8:\n",
        "      print('Your parent bought you')\n",
        "    else:\n",
        "      print('3.4.7.8 only allowed numbers')\n"
      ],
      "metadata": {
        "colab": {
          "base_uri": "https://localhost:8080/"
        },
        "id": "0Y2-Bkcl-P1e",
        "outputId": "51a577cd-0e3f-4194-9f01-a9bc248f1422"
      },
      "execution_count": null,
      "outputs": [
        {
          "output_type": "stream",
          "name": "stdout",
          "text": [
            "Welcome to the fortune teller\n",
            "You will select a color and a number and I will tell you what the future holds for you\n",
            "Enter a color [yellow, green, blue, red]red\n",
            "Enter a number from 3,4,7,84\n",
            "Your kids will become doctors\n",
            "Enter a color [yellow, green, blue, red]red\n",
            "Enter a number from 3,4,7,88\n",
            "Your parent bought you\n",
            "Enter a color [yellow, green, blue, red]yellow\n",
            "Select a number from 1,2,5,610\n",
            "1,2,5,6 only numbers allowed\n",
            "Enter a number from 3,4,7,810\n",
            "3.4.7.8 only allowed numbers\n",
            "Enter a color [yellow, green, blue, red]green\n",
            "Select a number from 1,2,5,61\n",
            "You will succeed as a professional\n"
          ]
        }
      ]
    },
    {
      "cell_type": "code",
      "source": [],
      "metadata": {
        "id": "D5eLx00mAJls"
      },
      "execution_count": null,
      "outputs": []
    }
  ]
}